{
 "cells": [
  {
   "cell_type": "code",
   "execution_count": 2,
   "id": "6666e189",
   "metadata": {},
   "outputs": [
    {
     "name": "stdout",
     "output_type": "stream",
     "text": [
      "Collecting PyBoy\n",
      "  Downloading pyboy-1.4.7.tar.gz (5.3 MB)\n",
      "  Preparing metadata (setup.py): started\n",
      "  Preparing metadata (setup.py): finished with status 'error'\n",
      "  Downloading pyboy-1.4.4.tar.gz (5.3 MB)\n",
      "  Preparing metadata (setup.py): started\n",
      "  Preparing metadata (setup.py): finished with status 'error'\n",
      "  Downloading pyboy-1.4.3.tar.gz (5.3 MB)\n",
      "  Preparing metadata (setup.py): started\n",
      "  Preparing metadata (setup.py): finished with status 'error'\n",
      "  Downloading pyboy-1.4.1-cp36-cp36m-win_amd64.whl (9.4 MB)\n",
      "Collecting cython>=0.29.16\n",
      "  Using cached Cython-3.0.6-cp36-cp36m-win_amd64.whl (2.8 MB)\n",
      "Requirement already satisfied: pillow in c:\\users\\adrie\\anaconda3\\envs\\ia\\lib\\site-packages (from PyBoy) (8.4.0)\n",
      "Collecting pysdl2\n",
      "  Using cached PySDL2-0.9.16.tar.gz (773 kB)\n",
      "  Preparing metadata (setup.py): started\n",
      "  Preparing metadata (setup.py): finished with status 'done'\n",
      "Collecting numpy<=1.19\n",
      "  Downloading numpy-1.19.0-cp36-cp36m-win_amd64.whl (13.0 MB)\n",
      "Building wheels for collected packages: pysdl2\n",
      "  Building wheel for pysdl2 (setup.py): started\n",
      "  Building wheel for pysdl2 (setup.py): finished with status 'done'\n",
      "  Created wheel for pysdl2: filename=PySDL2-0.9.16-py3-none-any.whl size=580364 sha256=d46b09e15ca0f41236ab7ff7cd6cf1c3d5480dea363de9757850ec42e5ae4167\n",
      "  Stored in directory: c:\\users\\adrie\\appdata\\local\\pip\\cache\\wheels\\9d\\fa\\ab\\88b16bf916872d226aa9ef71fecb0cdd3c8e91dc22afce8a29\n",
      "Successfully built pysdl2\n",
      "Installing collected packages: pysdl2, numpy, cython, PyBoy\n",
      "  Attempting uninstall: numpy\n",
      "    Found existing installation: numpy 1.19.5\n",
      "    Uninstalling numpy-1.19.5:\n",
      "      Successfully uninstalled numpy-1.19.5\n",
      "Successfully installed PyBoy-1.4.1 cython-3.0.6 numpy-1.19.0 pysdl2-0.9.16\n"
     ]
    },
    {
     "name": "stderr",
     "output_type": "stream",
     "text": [
      "  ERROR: Command errored out with exit status 123:\n",
      "   command: 'C:\\Users\\adrie\\anaconda3\\envs\\IA\\python.exe' -c 'import io, os, sys, setuptools, tokenize; sys.argv[0] = '\"'\"'C:\\\\Users\\\\adrie\\\\AppData\\\\Local\\\\Temp\\\\pip-install-q2161v2p\\\\pyboy_1262a5db57a7497bbf9857e213305a34\\\\setup.py'\"'\"'; __file__='\"'\"'C:\\\\Users\\\\adrie\\\\AppData\\\\Local\\\\Temp\\\\pip-install-q2161v2p\\\\pyboy_1262a5db57a7497bbf9857e213305a34\\\\setup.py'\"'\"';f = getattr(tokenize, '\"'\"'open'\"'\"', open)(__file__) if os.path.exists(__file__) else io.StringIO('\"'\"'from setuptools import setup; setup()'\"'\"');code = f.read().replace('\"'\"'\\r\\n'\"'\"', '\"'\"'\\n'\"'\"');f.close();exec(compile(code, __file__, '\"'\"'exec'\"'\"'))' egg_info --egg-base 'C:\\Users\\adrie\\AppData\\Local\\Temp\\pip-pip-egg-info-wldjl5fg'\n",
      "       cwd: C:\\Users\\adrie\\AppData\\Local\\Temp\\pip-install-q2161v2p\\pyboy_1262a5db57a7497bbf9857e213305a34\\\n",
      "  Complete output (5 lines):\n",
      "  locate_roms: No directory found: ROMs/\n",
      "  locate_bootrom: No directory found: ROMs/\n",
      "  Searching for SDL2 installation\n",
      "  PYSDL2_DLL_PATH: None\n",
      "  SDL2 cannot be found through neither sdl2-config nor PYSDL2_DLL_PATH\n",
      "  ----------------------------------------\n",
      "WARNING: Discarding https://files.pythonhosted.org/packages/70/61/0eb9b4029353eaeae7a63792fa7da10be3d0cfc6463c6973882f8bdc8767/pyboy-1.4.7.tar.gz#sha256=846cdd36815ab20a6d5737f332cf5e53d888fc9f61fc5fc59cdf06fb2d2922f1 (from https://pypi.org/simple/pyboy/) (requires-python:>=3.6). Command errored out with exit status 123: python setup.py egg_info Check the logs for full command output.\n",
      "  ERROR: Command errored out with exit status 123:\n",
      "   command: 'C:\\Users\\adrie\\anaconda3\\envs\\IA\\python.exe' -c 'import io, os, sys, setuptools, tokenize; sys.argv[0] = '\"'\"'C:\\\\Users\\\\adrie\\\\AppData\\\\Local\\\\Temp\\\\pip-install-q2161v2p\\\\pyboy_c6afc18560a7415083d8075b0d1e0aa4\\\\setup.py'\"'\"'; __file__='\"'\"'C:\\\\Users\\\\adrie\\\\AppData\\\\Local\\\\Temp\\\\pip-install-q2161v2p\\\\pyboy_c6afc18560a7415083d8075b0d1e0aa4\\\\setup.py'\"'\"';f = getattr(tokenize, '\"'\"'open'\"'\"', open)(__file__) if os.path.exists(__file__) else io.StringIO('\"'\"'from setuptools import setup; setup()'\"'\"');code = f.read().replace('\"'\"'\\r\\n'\"'\"', '\"'\"'\\n'\"'\"');f.close();exec(compile(code, __file__, '\"'\"'exec'\"'\"'))' egg_info --egg-base 'C:\\Users\\adrie\\AppData\\Local\\Temp\\pip-pip-egg-info-ibvelg3j'\n",
      "       cwd: C:\\Users\\adrie\\AppData\\Local\\Temp\\pip-install-q2161v2p\\pyboy_c6afc18560a7415083d8075b0d1e0aa4\\\n",
      "  Complete output (5 lines):\n",
      "  locate_roms: No directory found: ROMs/\n",
      "  locate_bootrom: No directory found: ROMs/\n",
      "  Searching for SDL2 installation\n",
      "  PYSDL2_DLL_PATH: None\n",
      "  SDL2 cannot be found through neither sdl2-config nor PYSDL2_DLL_PATH\n",
      "  ----------------------------------------\n",
      "WARNING: Discarding https://files.pythonhosted.org/packages/d7/16/f8ba935e31baa6befb5ea4a418b1d90acc744026a184cddcfbb7ca481f29/pyboy-1.4.4.tar.gz#sha256=7d18f72276c90b67c10bdf379990d709f1bcdce8a1d59a4715a87f9ad71e4b81 (from https://pypi.org/simple/pyboy/) (requires-python:>=3.6). Command errored out with exit status 123: python setup.py egg_info Check the logs for full command output.\n",
      "  ERROR: Command errored out with exit status 123:\n",
      "   command: 'C:\\Users\\adrie\\anaconda3\\envs\\IA\\python.exe' -c 'import io, os, sys, setuptools, tokenize; sys.argv[0] = '\"'\"'C:\\\\Users\\\\adrie\\\\AppData\\\\Local\\\\Temp\\\\pip-install-q2161v2p\\\\pyboy_e26db1009aec4789b82c7bee0e8da50b\\\\setup.py'\"'\"'; __file__='\"'\"'C:\\\\Users\\\\adrie\\\\AppData\\\\Local\\\\Temp\\\\pip-install-q2161v2p\\\\pyboy_e26db1009aec4789b82c7bee0e8da50b\\\\setup.py'\"'\"';f = getattr(tokenize, '\"'\"'open'\"'\"', open)(__file__) if os.path.exists(__file__) else io.StringIO('\"'\"'from setuptools import setup; setup()'\"'\"');code = f.read().replace('\"'\"'\\r\\n'\"'\"', '\"'\"'\\n'\"'\"');f.close();exec(compile(code, __file__, '\"'\"'exec'\"'\"'))' egg_info --egg-base 'C:\\Users\\adrie\\AppData\\Local\\Temp\\pip-pip-egg-info-2wzz7gij'\n",
      "       cwd: C:\\Users\\adrie\\AppData\\Local\\Temp\\pip-install-q2161v2p\\pyboy_e26db1009aec4789b82c7bee0e8da50b\\\n",
      "  Complete output (5 lines):\n",
      "  locate_roms: No directory found: ROMs/\n",
      "  locate_bootrom: No directory found: ROMs/\n",
      "  Searching for SDL2 installation\n",
      "  PYSDL2_DLL_PATH: None\n",
      "  SDL2 cannot be found through neither sdl2-config nor PYSDL2_DLL_PATH\n",
      "  ----------------------------------------\n",
      "WARNING: Discarding https://files.pythonhosted.org/packages/60/48/523b2980ba8154a9ff30c6acf911ce852e1968a82bfef38e694fc1336c6b/pyboy-1.4.3.tar.gz#sha256=c03d075acfb0f42c2aecfc9a9ca9e2bf0fabf39845223e886c0e35e7eb700649 (from https://pypi.org/simple/pyboy/) (requires-python:>=3.6). Command errored out with exit status 123: python setup.py egg_info Check the logs for full command output.\n",
      "ERROR: pip's dependency resolver does not currently take into account all the packages that are installed. This behaviour is the source of the following dependency conflicts.\n",
      "tensorflow 2.6.2 requires numpy~=1.19.2, but you have numpy 1.19.0 which is incompatible.\n"
     ]
    },
    {
     "ename": "ImportError",
     "evalue": "could not find any library for SDL2 (PYSDL2_DLL_PATH: unset)",
     "output_type": "error",
     "traceback": [
      "\u001b[1;31m---------------------------------------------------------------------------\u001b[0m",
      "\u001b[1;31mRuntimeError\u001b[0m                              Traceback (most recent call last)",
      "\u001b[1;32m~\\anaconda3\\envs\\IA\\lib\\site-packages\\sdl2\\dll.py\u001b[0m in \u001b[0;36m<module>\u001b[1;34m\u001b[0m\n\u001b[0;32m    361\u001b[0m \u001b[1;32mtry\u001b[0m\u001b[1;33m:\u001b[0m\u001b[1;33m\u001b[0m\u001b[1;33m\u001b[0m\u001b[0m\n\u001b[1;32m--> 362\u001b[1;33m     \u001b[0mdll\u001b[0m \u001b[1;33m=\u001b[0m \u001b[0mDLL\u001b[0m\u001b[1;33m(\u001b[0m\u001b[1;34m\"SDL2\"\u001b[0m\u001b[1;33m,\u001b[0m \u001b[1;33m[\u001b[0m\u001b[1;34m\"SDL2\"\u001b[0m\u001b[1;33m,\u001b[0m \u001b[1;34m\"SDL2-2.0\"\u001b[0m\u001b[1;33m,\u001b[0m \u001b[1;34m\"SDL2-2.0.0\"\u001b[0m\u001b[1;33m]\u001b[0m\u001b[1;33m,\u001b[0m \u001b[0mos\u001b[0m\u001b[1;33m.\u001b[0m\u001b[0mgetenv\u001b[0m\u001b[1;33m(\u001b[0m\u001b[1;34m\"PYSDL2_DLL_PATH\"\u001b[0m\u001b[1;33m)\u001b[0m\u001b[1;33m)\u001b[0m\u001b[1;33m\u001b[0m\u001b[1;33m\u001b[0m\u001b[0m\n\u001b[0m\u001b[0;32m    363\u001b[0m \u001b[1;32mexcept\u001b[0m \u001b[0mRuntimeError\u001b[0m \u001b[1;32mas\u001b[0m \u001b[0mexc\u001b[0m\u001b[1;33m:\u001b[0m\u001b[1;33m\u001b[0m\u001b[1;33m\u001b[0m\u001b[0m\n",
      "\u001b[1;32m~\\anaconda3\\envs\\IA\\lib\\site-packages\\sdl2\\dll.py\u001b[0m in \u001b[0;36m__init__\u001b[1;34m(self, libinfo, libnames, path)\u001b[0m\n\u001b[0;32m    253\u001b[0m             raise RuntimeError(\"could not find any library for %s (%s)\" %\n\u001b[1;32m--> 254\u001b[1;33m                                (libinfo, dllmsg))\n\u001b[0m\u001b[0;32m    255\u001b[0m         \u001b[1;32mfor\u001b[0m \u001b[0mlibfile\u001b[0m \u001b[1;32min\u001b[0m \u001b[0mfoundlibs\u001b[0m\u001b[1;33m:\u001b[0m\u001b[1;33m\u001b[0m\u001b[1;33m\u001b[0m\u001b[0m\n",
      "\u001b[1;31mRuntimeError\u001b[0m: could not find any library for SDL2 (PYSDL2_DLL_PATH: unset)",
      "\nDuring handling of the above exception, another exception occurred:\n",
      "\u001b[1;31mImportError\u001b[0m                               Traceback (most recent call last)",
      "\u001b[1;32m<ipython-input-2-028e775dd5c3>\u001b[0m in \u001b[0;36m<module>\u001b[1;34m\u001b[0m\n\u001b[0;32m      1\u001b[0m \u001b[0mget_ipython\u001b[0m\u001b[1;33m(\u001b[0m\u001b[1;33m)\u001b[0m\u001b[1;33m.\u001b[0m\u001b[0msystem\u001b[0m\u001b[1;33m(\u001b[0m\u001b[1;34m'pip install PyBoy'\u001b[0m\u001b[1;33m)\u001b[0m\u001b[1;33m\u001b[0m\u001b[1;33m\u001b[0m\u001b[0m\n\u001b[1;32m----> 2\u001b[1;33m \u001b[1;32mfrom\u001b[0m \u001b[0mpyboy\u001b[0m \u001b[1;32mimport\u001b[0m \u001b[0mPyBoy\u001b[0m\u001b[1;33m\u001b[0m\u001b[1;33m\u001b[0m\u001b[0m\n\u001b[0m\u001b[0;32m      3\u001b[0m \u001b[0mpyboy\u001b[0m \u001b[1;33m=\u001b[0m \u001b[0mPyBoy\u001b[0m\u001b[1;33m(\u001b[0m\u001b[1;34m'PokemonRed.gb'\u001b[0m\u001b[1;33m)\u001b[0m\u001b[1;33m\u001b[0m\u001b[1;33m\u001b[0m\u001b[0m\n\u001b[0;32m      4\u001b[0m \u001b[1;32mwhile\u001b[0m \u001b[1;32mnot\u001b[0m \u001b[0mpyboy\u001b[0m\u001b[1;33m.\u001b[0m\u001b[0mtick\u001b[0m\u001b[1;33m(\u001b[0m\u001b[1;33m)\u001b[0m\u001b[1;33m:\u001b[0m\u001b[1;33m\u001b[0m\u001b[1;33m\u001b[0m\u001b[0m\n\u001b[0;32m      5\u001b[0m     \u001b[1;32mpass\u001b[0m\u001b[1;33m\u001b[0m\u001b[1;33m\u001b[0m\u001b[0m\n",
      "\u001b[1;32m~\\anaconda3\\envs\\IA\\lib\\site-packages\\pyboy\\__init__.cp36-win_amd64.pyd\u001b[0m in \u001b[0;36minit pyboy.__init__\u001b[1;34m()\u001b[0m\n",
      "\u001b[1;32m~\\anaconda3\\envs\\IA\\lib\\site-packages\\pyboy\\pyboy.cp36-win_amd64.pyd\u001b[0m in \u001b[0;36minit pyboy.pyboy\u001b[1;34m()\u001b[0m\n",
      "\u001b[1;32m~\\anaconda3\\envs\\IA\\lib\\site-packages\\pyboy\\core\\__init__.cp36-win_amd64.pyd\u001b[0m in \u001b[0;36minit pyboy.core.__init__\u001b[1;34m()\u001b[0m\n",
      "\u001b[1;32m~\\anaconda3\\envs\\IA\\lib\\site-packages\\pyboy\\core\\mb.cp36-win_amd64.pyd\u001b[0m in \u001b[0;36minit pyboy.core.mb\u001b[1;34m()\u001b[0m\n",
      "\u001b[1;32m~\\anaconda3\\envs\\IA\\lib\\site-packages\\pyboy\\core\\sound.cp36-win_amd64.pyd\u001b[0m in \u001b[0;36minit pyboy.core.sound\u001b[1;34m()\u001b[0m\n",
      "\u001b[1;32m~\\anaconda3\\envs\\IA\\lib\\site-packages\\sdl2\\__init__.py\u001b[0m in \u001b[0;36m<module>\u001b[1;34m\u001b[0m\n\u001b[0;32m      1\u001b[0m \u001b[1;34m\"\"\"SDL2 wrapper package\"\"\"\u001b[0m\u001b[1;33m\u001b[0m\u001b[1;33m\u001b[0m\u001b[0m\n\u001b[1;32m----> 2\u001b[1;33m \u001b[1;32mfrom\u001b[0m \u001b[1;33m.\u001b[0m\u001b[0mdll\u001b[0m \u001b[1;32mimport\u001b[0m \u001b[0mget_dll_file\u001b[0m\u001b[1;33m,\u001b[0m \u001b[0m_bind\u001b[0m\u001b[1;33m\u001b[0m\u001b[1;33m\u001b[0m\u001b[0m\n\u001b[0m\u001b[0;32m      3\u001b[0m \u001b[1;33m\u001b[0m\u001b[0m\n\u001b[0;32m      4\u001b[0m \u001b[1;32mfrom\u001b[0m \u001b[1;33m.\u001b[0m\u001b[0m_sdl_init\u001b[0m \u001b[1;32mimport\u001b[0m \u001b[1;33m*\u001b[0m\u001b[1;33m\u001b[0m\u001b[1;33m\u001b[0m\u001b[0m\n\u001b[0;32m      5\u001b[0m \u001b[1;32mfrom\u001b[0m \u001b[1;33m.\u001b[0m\u001b[0maudio\u001b[0m \u001b[1;32mimport\u001b[0m \u001b[1;33m*\u001b[0m\u001b[1;33m\u001b[0m\u001b[1;33m\u001b[0m\u001b[0m\n",
      "\u001b[1;32m~\\anaconda3\\envs\\IA\\lib\\site-packages\\sdl2\\dll.py\u001b[0m in \u001b[0;36m<module>\u001b[1;34m\u001b[0m\n\u001b[0;32m    362\u001b[0m     \u001b[0mdll\u001b[0m \u001b[1;33m=\u001b[0m \u001b[0mDLL\u001b[0m\u001b[1;33m(\u001b[0m\u001b[1;34m\"SDL2\"\u001b[0m\u001b[1;33m,\u001b[0m \u001b[1;33m[\u001b[0m\u001b[1;34m\"SDL2\"\u001b[0m\u001b[1;33m,\u001b[0m \u001b[1;34m\"SDL2-2.0\"\u001b[0m\u001b[1;33m,\u001b[0m \u001b[1;34m\"SDL2-2.0.0\"\u001b[0m\u001b[1;33m]\u001b[0m\u001b[1;33m,\u001b[0m \u001b[0mos\u001b[0m\u001b[1;33m.\u001b[0m\u001b[0mgetenv\u001b[0m\u001b[1;33m(\u001b[0m\u001b[1;34m\"PYSDL2_DLL_PATH\"\u001b[0m\u001b[1;33m)\u001b[0m\u001b[1;33m)\u001b[0m\u001b[1;33m\u001b[0m\u001b[1;33m\u001b[0m\u001b[0m\n\u001b[0;32m    363\u001b[0m \u001b[1;32mexcept\u001b[0m \u001b[0mRuntimeError\u001b[0m \u001b[1;32mas\u001b[0m \u001b[0mexc\u001b[0m\u001b[1;33m:\u001b[0m\u001b[1;33m\u001b[0m\u001b[1;33m\u001b[0m\u001b[0m\n\u001b[1;32m--> 364\u001b[1;33m     \u001b[1;32mraise\u001b[0m \u001b[0mImportError\u001b[0m\u001b[1;33m(\u001b[0m\u001b[0mexc\u001b[0m\u001b[1;33m)\u001b[0m\u001b[1;33m\u001b[0m\u001b[1;33m\u001b[0m\u001b[0m\n\u001b[0m\u001b[0;32m    365\u001b[0m \u001b[1;33m\u001b[0m\u001b[0m\n\u001b[0;32m    366\u001b[0m \u001b[1;32mdef\u001b[0m \u001b[0mget_dll_file\u001b[0m\u001b[1;33m(\u001b[0m\u001b[1;33m)\u001b[0m\u001b[1;33m:\u001b[0m\u001b[1;33m\u001b[0m\u001b[1;33m\u001b[0m\u001b[0m\n",
      "\u001b[1;31mImportError\u001b[0m: could not find any library for SDL2 (PYSDL2_DLL_PATH: unset)"
     ]
    }
   ],
   "source": [
    "!pip install PyBoy\n",
    "from pyboy import PyBoy\n",
    "pyboy = PyBoy('PokemonRed.gb')\n",
    "while not pyboy.tick():\n",
    "    pass\n",
    "pyboy.stop()"
   ]
  },
  {
   "cell_type": "code",
   "execution_count": null,
   "id": "e78fb722",
   "metadata": {},
   "outputs": [],
   "source": []
  }
 ],
 "metadata": {
  "kernelspec": {
   "display_name": "Python 3",
   "language": "python",
   "name": "python3"
  },
  "language_info": {
   "codemirror_mode": {
    "name": "ipython",
    "version": 3
   },
   "file_extension": ".py",
   "mimetype": "text/x-python",
   "name": "python",
   "nbconvert_exporter": "python",
   "pygments_lexer": "ipython3",
   "version": "3.6.13"
  }
 },
 "nbformat": 4,
 "nbformat_minor": 5
}
